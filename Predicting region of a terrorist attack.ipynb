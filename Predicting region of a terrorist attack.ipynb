{
  "nbformat": 4,
  "nbformat_minor": 0,
  "metadata": {
    "colab": {
      "name": "Model Selection.ipynb",
      "provenance": [],
      "collapsed_sections": [],
      "include_colab_link": true
    },
    "kernelspec": {
      "name": "python3",
      "display_name": "Python 3"
    },
    "language_info": {
      "name": "python"
    },
    "accelerator": "GPU"
  },
  "cells": [
    {
      "cell_type": "markdown",
      "metadata": {
        "id": "view-in-github",
        "colab_type": "text"
      },
      "source": [
        "<a href=\"https://colab.research.google.com/github/abdullateefogundipe/abdullateefogundipe/blob/main/Predicting%20region%20of%20a%20terrorist%20attack.ipynb\" target=\"_parent\"><img src=\"https://colab.research.google.com/assets/colab-badge.svg\" alt=\"Open In Colab\"/></a>"
      ]
    },
    {
      "cell_type": "code",
      "source": [
        "from google.colab import drive\n",
        "drive.mount('/content/drive')"
      ],
      "metadata": {
        "id": "Rw3Ewga93HDk",
        "outputId": "f69119f9-9d35-47a9-d64d-90e593f38d38",
        "colab": {
          "base_uri": "https://localhost:8080/"
        }
      },
      "execution_count": 3,
      "outputs": [
        {
          "output_type": "stream",
          "name": "stdout",
          "text": [
            "Drive already mounted at /content/drive; to attempt to forcibly remount, call drive.mount(\"/content/drive\", force_remount=True).\n"
          ]
        }
      ]
    },
    {
      "cell_type": "code",
      "execution_count": 5,
      "metadata": {
        "id": "iHOFJ9pcQedi"
      },
      "outputs": [],
      "source": [
        "import numpy as np\n",
        "import pandas as pd"
      ]
    },
    {
      "cell_type": "code",
      "source": [
        "df = pd.read_csv(\"/content/drive/MyDrive/Hamoye/clean_df.csv\", index_col=[0])"
      ],
      "metadata": {
        "id": "UuBIlmFhQk8O"
      },
      "execution_count": 6,
      "outputs": []
    },
    {
      "cell_type": "code",
      "source": [
        "!pip install colorama"
      ],
      "metadata": {
        "colab": {
          "base_uri": "https://localhost:8080/"
        },
        "id": "4Q1iuS22VECS",
        "outputId": "a1008569-0601-4b7f-a13e-afd6cefa653c"
      },
      "execution_count": 7,
      "outputs": [
        {
          "output_type": "stream",
          "name": "stdout",
          "text": [
            "Collecting colorama\n",
            "  Downloading colorama-0.4.4-py2.py3-none-any.whl (16 kB)\n",
            "Installing collected packages: colorama\n",
            "Successfully installed colorama-0.4.4\n"
          ]
        }
      ]
    },
    {
      "cell_type": "code",
      "source": [
        "import warnings\n",
        "warnings.filterwarnings('ignore')\n",
        "import pandas as pd\n",
        "import numpy as np\n",
        "import matplotlib.pyplot as plt\n",
        "import matplotlib.pylab as plb\n",
        "import seaborn as sns\n",
        "from sklearn.preprocessing import MinMaxScaler, StandardScaler, Normalizer\n",
        "plt.style.use('seaborn')\n",
        "from colorama import Style, Fore, Back\n",
        "from sklearn.metrics import accuracy_score\n",
        "from sklearn.model_selection import cross_val_score\n",
        "from sklearn.linear_model import LogisticRegression\n",
        "from sklearn.tree import DecisionTreeClassifier\n",
        "from sklearn.svm import SVC\n",
        "from sklearn.neighbors import KNeighborsClassifier\n",
        "from sklearn.ensemble import RandomForestClassifier\n",
        "from sklearn.ensemble import GradientBoostingClassifier\n",
        "from imblearn.over_sampling import RandomOverSampler\n",
        "from sklearn.pipeline import Pipeline\n",
        "from sklearn import metrics"
      ],
      "metadata": {
        "id": "cshJbAzZU2F9"
      },
      "execution_count": 8,
      "outputs": []
    },
    {
      "cell_type": "code",
      "source": [
        "\n",
        "from sklearn.preprocessing import LabelEncoder\n",
        "from sklearn.preprocessing import OneHotEncoder\n",
        "from sklearn.model_selection import train_test_split\n",
        "from sklearn.preprocessing import StandardScaler\n",
        "import tensorflow\n",
        "from tensorflow import keras\n",
        "from tensorflow.keras.models import Sequential\n",
        "from tensorflow.keras.layers import Dense\n",
        "from sklearn.metrics import classification_report, confusion_matrix"
      ],
      "metadata": {
        "id": "KuldMLk363e0"
      },
      "execution_count": 9,
      "outputs": []
    },
    {
      "cell_type": "code",
      "source": [
        ""
      ],
      "metadata": {
        "id": "taCuw_wr63iD"
      },
      "execution_count": null,
      "outputs": []
    },
    {
      "cell_type": "markdown",
      "source": [
        "### **PREDICTING REGION OF A TERRORIST ATTACK**"
      ],
      "metadata": {
        "id": "E0NcOCLRg-L5"
      }
    },
    {
      "cell_type": "code",
      "source": [
        ""
      ],
      "metadata": {
        "id": "7UHxP3CT63lS"
      },
      "execution_count": null,
      "outputs": []
    },
    {
      "cell_type": "code",
      "source": [
        "# function to display UNIQUE examples of data in each field\n",
        "\n",
        "def getDesc(data, Column, numExamples=5):\n",
        "    x = list(set([i for i in data[Column] if i==i]))\n",
        "    if len(x)<numExamples:\n",
        "        numExamples = len(x)\n",
        "    x = list(np.random.choice(x, size=numExamples, replace=False))\n",
        "    print('Examples in '+Style.BRIGHT+Back.CYAN+Column+Back.RESET+':'+Style.RESET_ALL, x, '\\n')\n",
        "    return None\n",
        "\n",
        "# ======================================================================================\n",
        "\n",
        "# function to display the number of missing values in each field\n",
        "\n",
        "def getNumNan(data, thisFeature):\n",
        "    ms = data[data[thisFeature] != data[thisFeature]].shape[0]\n",
        "    print('Missing values in '+Style.BRIGHT+Back.CYAN+thisFeature+Back.RESET+Style.RESET_ALL+': {}'.format(ms))\n",
        "    return None"
      ],
      "metadata": {
        "id": "_8ErFo1Zhw2g"
      },
      "execution_count": 10,
      "outputs": []
    },
    {
      "cell_type": "code",
      "source": [
        "for i in df.columns:\n",
        "    getNumNan(df, i)\n",
        "    getDesc(df, i, 7)"
      ],
      "metadata": {
        "colab": {
          "base_uri": "https://localhost:8080/"
        },
        "id": "lTQBgBoeTXD9",
        "outputId": "d7e469d5-2bfb-496f-fb34-5a034617b5b2"
      },
      "execution_count": 11,
      "outputs": [
        {
          "output_type": "stream",
          "name": "stdout",
          "text": [
            "Missing values in \u001b[1m\u001b[46mYear\u001b[49m\u001b[0m: 0\n",
            "Examples in \u001b[1m\u001b[46mYear\u001b[49m:\u001b[0m [1989, 1990, 2005, 1971, 1996, 2007, 2004] \n",
            "\n",
            "Missing values in \u001b[1m\u001b[46mMonth\u001b[49m\u001b[0m: 0\n",
            "Examples in \u001b[1m\u001b[46mMonth\u001b[49m:\u001b[0m [12, 2, 3, 9, 5, 10, 0] \n",
            "\n",
            "Missing values in \u001b[1m\u001b[46mDay\u001b[49m\u001b[0m: 0\n",
            "Examples in \u001b[1m\u001b[46mDay\u001b[49m:\u001b[0m [25, 19, 14, 23, 8, 21, 26] \n",
            "\n",
            "Missing values in \u001b[1m\u001b[46mExtended\u001b[49m\u001b[0m: 0\n",
            "Examples in \u001b[1m\u001b[46mExtended\u001b[49m:\u001b[0m [0, 1] \n",
            "\n",
            "Missing values in \u001b[1m\u001b[46mCountry\u001b[49m\u001b[0m: 0\n",
            "Examples in \u001b[1m\u001b[46mCountry\u001b[49m:\u001b[0m ['Grenada', 'Vietnam', 'Wallis and Futuna', 'Mexico', 'Jamaica', 'Kosovo', 'International'] \n",
            "\n",
            "Missing values in \u001b[1m\u001b[46mRegion\u001b[49m\u001b[0m: 0\n",
            "Examples in \u001b[1m\u001b[46mRegion\u001b[49m:\u001b[0m ['East Asia', 'Sub-Saharan Africa', 'Western Europe', 'South America', 'North America', 'Southeast Asia', 'Middle East & North Africa'] \n",
            "\n",
            "Missing values in \u001b[1m\u001b[46mCity\u001b[49m\u001b[0m: 0\n",
            "Examples in \u001b[1m\u001b[46mCity\u001b[49m:\u001b[0m ['Nueva Espana', 'Abu Mohammed', 'Barha', 'Bairam-Aul', 'Rechelim', 'Polampalli', 'Rio Hondo'] \n",
            "\n",
            "Missing values in \u001b[1m\u001b[46mSuccess\u001b[49m\u001b[0m: 0\n",
            "Examples in \u001b[1m\u001b[46mSuccess\u001b[49m:\u001b[0m [1, 0] \n",
            "\n",
            "Missing values in \u001b[1m\u001b[46mSuicide\u001b[49m\u001b[0m: 0\n",
            "Examples in \u001b[1m\u001b[46mSuicide\u001b[49m:\u001b[0m [1, 0] \n",
            "\n",
            "Missing values in \u001b[1m\u001b[46mAttack_Type\u001b[49m\u001b[0m: 0\n",
            "Examples in \u001b[1m\u001b[46mAttack_Type\u001b[49m:\u001b[0m ['Facility/Infrastructure Attack', 'Assassination', 'Bombing/Explosion', 'Armed Assault', 'Hostage Taking (Kidnapping)', 'Unknown', 'Hijacking'] \n",
            "\n",
            "Missing values in \u001b[1m\u001b[46mTarget_Type\u001b[49m\u001b[0m: 0\n",
            "Examples in \u001b[1m\u001b[46mTarget_Type\u001b[49m:\u001b[0m ['Violent Political Party', 'Terrorists/Non-State Militia', 'Utilities', 'Unknown', 'Government (Diplomatic)', 'NGO', 'Tourists'] \n",
            "\n",
            "Missing values in \u001b[1m\u001b[46mTarget_Subtype\u001b[49m\u001b[0m: 0\n",
            "Examples in \u001b[1m\u001b[46mTarget_Subtype\u001b[49m:\u001b[0m ['Radio', 'Protester', 'Diplomatic Personnel (outside of embassy, consulate)', 'Train/Train Tracks/Trolley', 'Election-related', 'Multiple Telecommunication Targets', 'Bus Station/Stop'] \n",
            "\n",
            "Missing values in \u001b[1m\u001b[46mTarget\u001b[49m\u001b[0m: 0\n",
            "Examples in \u001b[1m\u001b[46mTarget\u001b[49m:\u001b[0m ['Imam: Aladji Sekou', 'The target of this attack was a police officer.', 'Israeli Soldiers Waiting at Point to hitch rides', 'Street near Jorge Chavez International Apt *', 'Town of Guarjila', 'C Block, Naraguta Male Hostel', 'M.W. Jaya Ganeshan'] \n",
            "\n",
            "Missing values in \u001b[1m\u001b[46mTarget_Nationality\u001b[49m\u001b[0m: 0\n",
            "Examples in \u001b[1m\u001b[46mTarget_Nationality\u001b[49m:\u001b[0m ['International', 'Uruguay', \"People's Republic of the Congo\", 'Martinique', 'Niger', 'Angola', 'Indonesia'] \n",
            "\n",
            "Missing values in \u001b[1m\u001b[46mAttack_Group\u001b[49m\u001b[0m: 0\n",
            "Examples in \u001b[1m\u001b[46mAttack_Group\u001b[49m:\u001b[0m ['Mujahidin Ambon', 'Guerrilla Forces for Liberation', 'Coordination for Revolutionary Action (CAR)', 'High Council for the Unity of Azawad (HCUA)', 'Rahanwein Resistance Army (RRA)', 'Ambazonia Defense Forces (ADF)', 'Palestinian-nationalist Lebanese joint movement'] \n",
            "\n",
            "Missing values in \u001b[1m\u001b[46mWeapon\u001b[49m\u001b[0m: 0\n",
            "Examples in \u001b[1m\u001b[46mWeapon\u001b[49m:\u001b[0m ['Biological', 'Unknown', 'Sabotage Equipment', 'Radiological', 'Vehicle (not to include vehicle-borne explosives, i.e., car or truck bombs)', 'Firearms', 'Fake Weapons'] \n",
            "\n",
            "Missing values in \u001b[1m\u001b[46mNo_Of_Killed\u001b[49m\u001b[0m: 0\n",
            "Examples in \u001b[1m\u001b[46mNo_Of_Killed\u001b[49m:\u001b[0m [57.0, 105.0, 275.0, 95.0, 112.0, 127.0, 52.0] \n",
            "\n",
            "Missing values in \u001b[1m\u001b[46mNo_Of_Wounded\u001b[49m\u001b[0m: 0\n",
            "Examples in \u001b[1m\u001b[46mNo_Of_Wounded\u001b[49m:\u001b[0m [260.0, 1500.0, 66.0, 64.0, 1272.0, 132.0, 257.0] \n",
            "\n",
            "Missing values in \u001b[1m\u001b[46mProperty\u001b[49m\u001b[0m: 0\n",
            "Examples in \u001b[1m\u001b[46mProperty\u001b[49m:\u001b[0m [0, -9, 1] \n",
            "\n",
            "Missing values in \u001b[1m\u001b[46mcountry\u001b[49m\u001b[0m: 0\n",
            "Examples in \u001b[1m\u001b[46mcountry\u001b[49m:\u001b[0m [195, 31, 42, 167, 84, 130, 35] \n",
            "\n",
            "Missing values in \u001b[1m\u001b[46mregion\u001b[49m\u001b[0m: 0\n",
            "Examples in \u001b[1m\u001b[46mregion\u001b[49m:\u001b[0m [4, 9, 11, 6, 7, 12, 1] \n",
            "\n",
            "Missing values in \u001b[1m\u001b[46mattacktype1\u001b[49m\u001b[0m: 0\n",
            "Examples in \u001b[1m\u001b[46mattacktype1\u001b[49m:\u001b[0m [4, 2, 1, 6, 3, 5, 7] \n",
            "\n",
            "Missing values in \u001b[1m\u001b[46mtargtype1\u001b[49m\u001b[0m: 0\n",
            "Examples in \u001b[1m\u001b[46mtargtype1\u001b[49m:\u001b[0m [10, 2, 21, 6, 17, 18, 5] \n",
            "\n",
            "Missing values in \u001b[1m\u001b[46mtarget1\u001b[49m\u001b[0m: 0\n",
            "Examples in \u001b[1m\u001b[46mtarget1\u001b[49m:\u001b[0m ['Rajendra Dahal, a Unified Communist Party of Nepal-Maoist (UCPN-M) activist,', 'Editor-in-Chief: Can Dundar', 'Work Bus', 'The victim was a Buddhist civilian of Yala.', 'The target was members of the Nepali Congress political party', '203rd Thunder Military Corps Posts', 'Lieutenant Colonel Abdullah al-Fakih'] \n",
            "\n",
            "Missing values in \u001b[1m\u001b[46mnatlty1\u001b[49m\u001b[0m: 0\n",
            "Examples in \u001b[1m\u001b[46mnatlty1\u001b[49m:\u001b[0m [219.0, 225.0, 29.0, 137.0, 198.0, 192.0, 159.0] \n",
            "\n",
            "Missing values in \u001b[1m\u001b[46mgname\u001b[49m\u001b[0m: 0\n",
            "Examples in \u001b[1m\u001b[46mgname\u001b[49m:\u001b[0m ['Jaime Bateman Cayon Group (JBC)', 'Corsican Nationalists', 'Students', 'National Liberation Union', 'Party of National Conciliation', 'Misurasata Indian Organization', 'Khorasan Chapter of the Islamic State'] \n",
            "\n",
            "Missing values in \u001b[1m\u001b[46mweaptype1\u001b[49m\u001b[0m: 0\n",
            "Examples in \u001b[1m\u001b[46mweaptype1\u001b[49m:\u001b[0m [8, 13, 9, 12, 5, 2, 7] \n",
            "\n"
          ]
        }
      ]
    },
    {
      "cell_type": "code",
      "source": [
        "cat_col = ['Success','Suicide', 'natlty1', 'weaptype1', 'attacktype1', 'targtype1', 'Year', 'Month', 'Day', 'Extended','Property','country', 'region']\n",
        "for col in cat_col:\n",
        "  df[col] = df[col].astype(\"category\")"
      ],
      "metadata": {
        "id": "eB4Vq23EVIhP"
      },
      "execution_count": 12,
      "outputs": []
    },
    {
      "cell_type": "code",
      "source": [
        "df = df.drop(columns = ['Month','Day','City','target1', 'gname', 'Country', 'Region','Target', 'Attack_Type','Target_Type', 'Target_Subtype', 'Target','Target_Nationality','Attack_Group', 'Weapon'])\n"
      ],
      "metadata": {
        "id": "R2OE3ksOVLQ9"
      },
      "execution_count": 14,
      "outputs": []
    },
    {
      "cell_type": "code",
      "source": [
        "import matplotlib.pyplot as plt\n",
        "import seaborn as sns\n",
        "from sklearn.preprocessing import LabelEncoder\n",
        "from sklearn.preprocessing import OneHotEncoder\n",
        "from sklearn.model_selection import train_test_split\n",
        "from sklearn.preprocessing import StandardScaler\n",
        "import tensorflow\n",
        "from tensorflow import keras\n",
        "from tensorflow.keras.models import Sequential\n",
        "from tensorflow.keras.layers import Dense\n",
        "from sklearn.metrics import classification_report, confusion_matrix"
      ],
      "metadata": {
        "id": "Kf8Fe43zVOMV"
      },
      "execution_count": 15,
      "outputs": []
    },
    {
      "cell_type": "code",
      "source": [
        "X = df.loc[:, df.columns != 'region']\n",
        "X.head()"
      ],
      "metadata": {
        "colab": {
          "base_uri": "https://localhost:8080/",
          "height": 206
        },
        "id": "_n8BGQpKX4bU",
        "outputId": "cc1be122-ff77-4f3d-cb5e-01b9c0070614"
      },
      "execution_count": 21,
      "outputs": [
        {
          "output_type": "execute_result",
          "data": {
            "text/plain": [
              "   Year Extended Success Suicide  No_Of_Killed  No_Of_Wounded Property  \\\n",
              "0  1970        0       1       0           1.0            0.0        0   \n",
              "1  1970        0       1       0           0.0            0.0        0   \n",
              "2  1970        0       1       0           1.0            0.0        0   \n",
              "3  1970        0       1       0           0.0            0.0        1   \n",
              "4  1970        0       1       0           0.0            0.0        1   \n",
              "\n",
              "  country attacktype1 targtype1 natlty1 weaptype1  \n",
              "0      58           1        14    58.0        13  \n",
              "1     130           6         7    21.0        13  \n",
              "2     160           1        10   217.0        13  \n",
              "3      78           3         7   217.0         6  \n",
              "4     101           7         7   217.0         8  "
            ],
            "text/html": [
              "\n",
              "  <div id=\"df-3a30e802-0417-4c0f-a2e0-a97b53479f56\">\n",
              "    <div class=\"colab-df-container\">\n",
              "      <div>\n",
              "<style scoped>\n",
              "    .dataframe tbody tr th:only-of-type {\n",
              "        vertical-align: middle;\n",
              "    }\n",
              "\n",
              "    .dataframe tbody tr th {\n",
              "        vertical-align: top;\n",
              "    }\n",
              "\n",
              "    .dataframe thead th {\n",
              "        text-align: right;\n",
              "    }\n",
              "</style>\n",
              "<table border=\"1\" class=\"dataframe\">\n",
              "  <thead>\n",
              "    <tr style=\"text-align: right;\">\n",
              "      <th></th>\n",
              "      <th>Year</th>\n",
              "      <th>Extended</th>\n",
              "      <th>Success</th>\n",
              "      <th>Suicide</th>\n",
              "      <th>No_Of_Killed</th>\n",
              "      <th>No_Of_Wounded</th>\n",
              "      <th>Property</th>\n",
              "      <th>country</th>\n",
              "      <th>attacktype1</th>\n",
              "      <th>targtype1</th>\n",
              "      <th>natlty1</th>\n",
              "      <th>weaptype1</th>\n",
              "    </tr>\n",
              "  </thead>\n",
              "  <tbody>\n",
              "    <tr>\n",
              "      <th>0</th>\n",
              "      <td>1970</td>\n",
              "      <td>0</td>\n",
              "      <td>1</td>\n",
              "      <td>0</td>\n",
              "      <td>1.0</td>\n",
              "      <td>0.0</td>\n",
              "      <td>0</td>\n",
              "      <td>58</td>\n",
              "      <td>1</td>\n",
              "      <td>14</td>\n",
              "      <td>58.0</td>\n",
              "      <td>13</td>\n",
              "    </tr>\n",
              "    <tr>\n",
              "      <th>1</th>\n",
              "      <td>1970</td>\n",
              "      <td>0</td>\n",
              "      <td>1</td>\n",
              "      <td>0</td>\n",
              "      <td>0.0</td>\n",
              "      <td>0.0</td>\n",
              "      <td>0</td>\n",
              "      <td>130</td>\n",
              "      <td>6</td>\n",
              "      <td>7</td>\n",
              "      <td>21.0</td>\n",
              "      <td>13</td>\n",
              "    </tr>\n",
              "    <tr>\n",
              "      <th>2</th>\n",
              "      <td>1970</td>\n",
              "      <td>0</td>\n",
              "      <td>1</td>\n",
              "      <td>0</td>\n",
              "      <td>1.0</td>\n",
              "      <td>0.0</td>\n",
              "      <td>0</td>\n",
              "      <td>160</td>\n",
              "      <td>1</td>\n",
              "      <td>10</td>\n",
              "      <td>217.0</td>\n",
              "      <td>13</td>\n",
              "    </tr>\n",
              "    <tr>\n",
              "      <th>3</th>\n",
              "      <td>1970</td>\n",
              "      <td>0</td>\n",
              "      <td>1</td>\n",
              "      <td>0</td>\n",
              "      <td>0.0</td>\n",
              "      <td>0.0</td>\n",
              "      <td>1</td>\n",
              "      <td>78</td>\n",
              "      <td>3</td>\n",
              "      <td>7</td>\n",
              "      <td>217.0</td>\n",
              "      <td>6</td>\n",
              "    </tr>\n",
              "    <tr>\n",
              "      <th>4</th>\n",
              "      <td>1970</td>\n",
              "      <td>0</td>\n",
              "      <td>1</td>\n",
              "      <td>0</td>\n",
              "      <td>0.0</td>\n",
              "      <td>0.0</td>\n",
              "      <td>1</td>\n",
              "      <td>101</td>\n",
              "      <td>7</td>\n",
              "      <td>7</td>\n",
              "      <td>217.0</td>\n",
              "      <td>8</td>\n",
              "    </tr>\n",
              "  </tbody>\n",
              "</table>\n",
              "</div>\n",
              "      <button class=\"colab-df-convert\" onclick=\"convertToInteractive('df-3a30e802-0417-4c0f-a2e0-a97b53479f56')\"\n",
              "              title=\"Convert this dataframe to an interactive table.\"\n",
              "              style=\"display:none;\">\n",
              "        \n",
              "  <svg xmlns=\"http://www.w3.org/2000/svg\" height=\"24px\"viewBox=\"0 0 24 24\"\n",
              "       width=\"24px\">\n",
              "    <path d=\"M0 0h24v24H0V0z\" fill=\"none\"/>\n",
              "    <path d=\"M18.56 5.44l.94 2.06.94-2.06 2.06-.94-2.06-.94-.94-2.06-.94 2.06-2.06.94zm-11 1L8.5 8.5l.94-2.06 2.06-.94-2.06-.94L8.5 2.5l-.94 2.06-2.06.94zm10 10l.94 2.06.94-2.06 2.06-.94-2.06-.94-.94-2.06-.94 2.06-2.06.94z\"/><path d=\"M17.41 7.96l-1.37-1.37c-.4-.4-.92-.59-1.43-.59-.52 0-1.04.2-1.43.59L10.3 9.45l-7.72 7.72c-.78.78-.78 2.05 0 2.83L4 21.41c.39.39.9.59 1.41.59.51 0 1.02-.2 1.41-.59l7.78-7.78 2.81-2.81c.8-.78.8-2.07 0-2.86zM5.41 20L4 18.59l7.72-7.72 1.47 1.35L5.41 20z\"/>\n",
              "  </svg>\n",
              "      </button>\n",
              "      \n",
              "  <style>\n",
              "    .colab-df-container {\n",
              "      display:flex;\n",
              "      flex-wrap:wrap;\n",
              "      gap: 12px;\n",
              "    }\n",
              "\n",
              "    .colab-df-convert {\n",
              "      background-color: #E8F0FE;\n",
              "      border: none;\n",
              "      border-radius: 50%;\n",
              "      cursor: pointer;\n",
              "      display: none;\n",
              "      fill: #1967D2;\n",
              "      height: 32px;\n",
              "      padding: 0 0 0 0;\n",
              "      width: 32px;\n",
              "    }\n",
              "\n",
              "    .colab-df-convert:hover {\n",
              "      background-color: #E2EBFA;\n",
              "      box-shadow: 0px 1px 2px rgba(60, 64, 67, 0.3), 0px 1px 3px 1px rgba(60, 64, 67, 0.15);\n",
              "      fill: #174EA6;\n",
              "    }\n",
              "\n",
              "    [theme=dark] .colab-df-convert {\n",
              "      background-color: #3B4455;\n",
              "      fill: #D2E3FC;\n",
              "    }\n",
              "\n",
              "    [theme=dark] .colab-df-convert:hover {\n",
              "      background-color: #434B5C;\n",
              "      box-shadow: 0px 1px 3px 1px rgba(0, 0, 0, 0.15);\n",
              "      filter: drop-shadow(0px 1px 2px rgba(0, 0, 0, 0.3));\n",
              "      fill: #FFFFFF;\n",
              "    }\n",
              "  </style>\n",
              "\n",
              "      <script>\n",
              "        const buttonEl =\n",
              "          document.querySelector('#df-3a30e802-0417-4c0f-a2e0-a97b53479f56 button.colab-df-convert');\n",
              "        buttonEl.style.display =\n",
              "          google.colab.kernel.accessAllowed ? 'block' : 'none';\n",
              "\n",
              "        async function convertToInteractive(key) {\n",
              "          const element = document.querySelector('#df-3a30e802-0417-4c0f-a2e0-a97b53479f56');\n",
              "          const dataTable =\n",
              "            await google.colab.kernel.invokeFunction('convertToInteractive',\n",
              "                                                     [key], {});\n",
              "          if (!dataTable) return;\n",
              "\n",
              "          const docLinkHtml = 'Like what you see? Visit the ' +\n",
              "            '<a target=\"_blank\" href=https://colab.research.google.com/notebooks/data_table.ipynb>data table notebook</a>'\n",
              "            + ' to learn more about interactive tables.';\n",
              "          element.innerHTML = '';\n",
              "          dataTable['output_type'] = 'display_data';\n",
              "          await google.colab.output.renderOutput(dataTable, element);\n",
              "          const docLink = document.createElement('div');\n",
              "          docLink.innerHTML = docLinkHtml;\n",
              "          element.appendChild(docLink);\n",
              "        }\n",
              "      </script>\n",
              "    </div>\n",
              "  </div>\n",
              "  "
            ]
          },
          "metadata": {},
          "execution_count": 21
        }
      ]
    },
    {
      "cell_type": "code",
      "source": [
        "y = df[\"region\"]\n",
        "y.value_counts()"
      ],
      "metadata": {
        "colab": {
          "base_uri": "https://localhost:8080/"
        },
        "id": "euv4V94uZAPz",
        "outputId": "9c98d419-43a2-4954-dfb2-4bc0c67e2442"
      },
      "execution_count": 20,
      "outputs": [
        {
          "output_type": "execute_result",
          "data": {
            "text/plain": [
              "10    50474\n",
              "6     44974\n",
              "3     18978\n",
              "11    17550\n",
              "8     16639\n",
              "5     12485\n",
              "2     10344\n",
              "9      5144\n",
              "1      3456\n",
              "4       802\n",
              "7       563\n",
              "12      282\n",
              "Name: region, dtype: int64"
            ]
          },
          "metadata": {},
          "execution_count": 20
        }
      ]
    },
    {
      "cell_type": "code",
      "source": [
        "# Split dataset into a training and testing set.\n",
        "from sklearn.model_selection import train_test_split\n",
        "X_train , X_test , y_train , y_test = train_test_split(X, y, test_size=0.3, random_state=2)"
      ],
      "metadata": {
        "id": "7xBXbr5lVTny"
      },
      "execution_count": 22,
      "outputs": []
    },
    {
      "cell_type": "code",
      "source": [
        "print ('Number of observations in the target variable before oversampling of the minority class:', np.bincount (y_train) )\n",
        "\n",
        "ros = RandomOverSampler (random_state=2)\n",
        "X_train, y_train = ros.fit_resample (X_train, y_train)\n",
        "\n",
        "print ('\\nNumber of observations in the target variable after oversampling of the minority class:', np.bincount (y_train) )"
      ],
      "metadata": {
        "colab": {
          "base_uri": "https://localhost:8080/"
        },
        "id": "DGXMb2IJXg-O",
        "outputId": "c81dc35a-9418-4185-b2cc-80a5569e9d1e"
      },
      "execution_count": 33,
      "outputs": [
        {
          "output_type": "stream",
          "name": "stdout",
          "text": [
            "Number of observations in the target variable before oversampling of the minority class: [    0 35252 35252 35252 35252 35252 35252 35252 35252 35252 35252 35252\n",
            " 35252]\n",
            "\n",
            "Number of observations in the target variable after oversampling of the minority class: [    0 35252 35252 35252 35252 35252 35252 35252 35252 35252 35252 35252\n",
            " 35252]\n"
          ]
        }
      ]
    },
    {
      "cell_type": "code",
      "source": [
        "data_dict = {\"X_train\":X_train, \"X_test\":X_test, \"y_train\":y_train, \"y_test\":y_test}\n",
        "for i in data_dict:\n",
        "    print(\"The shape of {} is {}\".format(i,data_dict[i].shape))"
      ],
      "metadata": {
        "colab": {
          "base_uri": "https://localhost:8080/"
        },
        "id": "e3xiwpAdgcSg",
        "outputId": "961a4165-bee2-4a11-9709-b960656f24fa"
      },
      "execution_count": 34,
      "outputs": [
        {
          "output_type": "stream",
          "name": "stdout",
          "text": [
            "The shape of X_train is (423024, 12)\n",
            "The shape of X_test is (54508, 12)\n",
            "The shape of y_train is (423024,)\n",
            "The shape of y_test is (54508,)\n"
          ]
        }
      ]
    },
    {
      "cell_type": "code",
      "source": [
        "sc =StandardScaler()\n",
        "X_train = sc.fit_transform(X_train)\n",
        "X_test = sc.transform(X_test)"
      ],
      "metadata": {
        "id": "VR36eftyh9UW"
      },
      "execution_count": 25,
      "outputs": []
    },
    {
      "cell_type": "code",
      "source": [
        "clf = [ LogisticRegression(random_state=2), DecisionTreeClassifier(random_state=2), SVC (random_state=2),\n",
        "       RandomForestClassifier(random_state=2), GradientBoostingClassifier(random_state=2) ]\n",
        "models = [ 'Logistic Regression', 'Tree', 'Support vector machine', 'RFC', 'Gradient boost' ]\n",
        "\n"
      ],
      "metadata": {
        "id": "VEqUNNJFiClO"
      },
      "execution_count": 44,
      "outputs": []
    },
    {
      "cell_type": "code",
      "source": [
        "for i in range(0, len(clf)):\n",
        "        text_clf = Pipeline([('clf', clf[i])])\n",
        "        print(text_clf)\n",
        "        text_clf.fit(X_train, y_train)  \n",
        "        predictions = text_clf.predict(X_test)\n",
        "        \n",
        "        print(metrics.confusion_matrix(y_test,predictions))\n",
        "        print(metrics.classification_report(y_test,predictions))\n",
        "        print('F1_score: ',round(metrics.f1_score(y_test,predictions, average = 'weighted'),3))\n",
        "        print('-------------------------------------------------------')"
      ],
      "metadata": {
        "id": "P8ycUzYFSIdL",
        "outputId": "6b572310-4375-4bef-9f0b-39430cb2673c",
        "colab": {
          "base_uri": "https://localhost:8080/"
        }
      },
      "execution_count": null,
      "outputs": [
        {
          "output_type": "stream",
          "name": "stdout",
          "text": [
            "Pipeline(steps=[('clf', LogisticRegression(random_state=2))])\n",
            "[[ 683   30    7   20   46   14   56   56   30   23   76   18]\n",
            " [  81 2057  323  150    1    7  101  142    1    6   10  137]\n",
            " [ 556 2000  719  230   31  404  386  760   15   79   55  425]\n",
            " [  28   22   48   29    1   34   11    2    2    8    3   66]\n",
            " [ 260   59   72   95 1303   82  257  165  562  143  701   84]\n",
            " [ 459  305  441  484 1608 5228  538  209  571 1228 1678  687]\n",
            " [  10    6   24    7   21   23   13   10    5   11   18   17]\n",
            " [ 777  798  274  147   86  281  111 1696  273   26   50  514]\n",
            " [  48    7   49   11  363   20   81  119  482   27  250   40]\n",
            " [ 663  574  644  426  593 5810  470  252  919 3172 1306  393]\n",
            " [ 493  163  105  122  791  448  165  160  533  425 1806   79]\n",
            " [   8   13    4    3    3    7   14   22    2    0    1   16]]\n",
            "              precision    recall  f1-score   support\n",
            "\n",
            "           1       0.17      0.64      0.27      1059\n",
            "           2       0.34      0.68      0.45      3016\n",
            "           3       0.27      0.13      0.17      5660\n",
            "           4       0.02      0.11      0.03       254\n",
            "           5       0.27      0.34      0.30      3783\n",
            "           6       0.42      0.39      0.41     13436\n",
            "           7       0.01      0.08      0.01       165\n",
            "           8       0.47      0.34      0.39      5033\n",
            "           9       0.14      0.32      0.20      1497\n",
            "          10       0.62      0.21      0.31     15222\n",
            "          11       0.30      0.34      0.32      5290\n",
            "          12       0.01      0.17      0.01        93\n",
            "\n",
            "    accuracy                           0.32     54508\n",
            "   macro avg       0.25      0.31      0.24     54508\n",
            "weighted avg       0.42      0.32      0.33     54508\n",
            "\n",
            "F1_score:  0.329\n",
            "-------------------------------------------------------\n",
            "Pipeline(steps=[('clf', DecisionTreeClassifier(random_state=2))])\n",
            "[[ 1059     0     0     0     0     0     0     0     0     0     0     0]\n",
            " [    0  3015     0     0     0     0     0     0     0     0     0     1]\n",
            " [    0     0  5654     0     0     1     0     0     2     0     3     0]\n",
            " [    0     0     0   251     0     0     0     0     1     2     0     0]\n",
            " [    0     0     3     0  3780     0     0     0     0     0     0     0]\n",
            " [    0     0     0     0     0 13434     1     1     0     0     0     0]\n",
            " [    0     0     3     0     0     0   160     0     0     1     1     0]\n",
            " [    0     1     1     0     0     2     0  5018     1     3     7     0]\n",
            " [    0     0     3     0     1     0     0     2  1491     0     0     0]\n",
            " [    0     0     0     0     0     0     0     0     3 15217     2     0]\n",
            " [    0     2     8     0     0     1     0     2     0     3  5274     0]\n",
            " [    0     1     0     0     0     0     0     0     0     0     0    92]]\n",
            "              precision    recall  f1-score   support\n",
            "\n",
            "           1       1.00      1.00      1.00      1059\n",
            "           2       1.00      1.00      1.00      3016\n",
            "           3       1.00      1.00      1.00      5660\n",
            "           4       1.00      0.99      0.99       254\n",
            "           5       1.00      1.00      1.00      3783\n",
            "           6       1.00      1.00      1.00     13436\n",
            "           7       0.99      0.97      0.98       165\n",
            "           8       1.00      1.00      1.00      5033\n",
            "           9       1.00      1.00      1.00      1497\n",
            "          10       1.00      1.00      1.00     15222\n",
            "          11       1.00      1.00      1.00      5290\n",
            "          12       0.99      0.99      0.99        93\n",
            "\n",
            "    accuracy                           1.00     54508\n",
            "   macro avg       1.00      0.99      1.00     54508\n",
            "weighted avg       1.00      1.00      1.00     54508\n",
            "\n",
            "F1_score:  0.999\n",
            "-------------------------------------------------------\n",
            "Pipeline(steps=[('clf', SVC(random_state=2))])\n"
          ]
        }
      ]
    },
    {
      "cell_type": "code",
      "source": [
        ""
      ],
      "metadata": {
        "id": "ObLPT93HmZcQ"
      },
      "execution_count": null,
      "outputs": []
    }
  ]
}